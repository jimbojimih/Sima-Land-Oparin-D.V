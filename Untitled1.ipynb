{
  "nbformat": 4,
  "nbformat_minor": 0,
  "metadata": {
    "colab": {
      "provenance": [],
      "authorship_tag": "ABX9TyMPyTFHQwQ21rk46C26+ZIx",
      "include_colab_link": true
    },
    "kernelspec": {
      "name": "python3",
      "display_name": "Python 3"
    },
    "language_info": {
      "name": "python"
    }
  },
  "cells": [
    {
      "cell_type": "markdown",
      "metadata": {
        "id": "view-in-github",
        "colab_type": "text"
      },
      "source": [
        "<a href=\"https://colab.research.google.com/github/jimbojimih/Sima-Land-Oparin-D.V/blob/master/Untitled1.ipynb\" target=\"_parent\"><img src=\"https://colab.research.google.com/assets/colab-badge.svg\" alt=\"Open In Colab\"/></a>"
      ]
    },
    {
      "cell_type": "code",
      "execution_count": null,
      "metadata": {
        "id": "WPGwY8QY1mmB"
      },
      "outputs": [],
      "source": [
        "!apt-get install openjdk-8-jdk-headless -qq > /dev/null\n",
        "!wget -q https://downloads.apache.org/spark/spark-3.4.0/spark-3.4.0-bin-hadoop3.tgz\n",
        "!tar -xvf spark-3.4.0-bin-hadoop3.tgz\n",
        "!pip install -q findspark\n",
        "!pip install pyspark"
      ]
    },
    {
      "cell_type": "markdown",
      "source": [],
      "metadata": {
        "id": "kOT8b45O3m7q"
      }
    },
    {
      "cell_type": "code",
      "source": [
        "from pyspark.sql import SparkSession\n",
        "\n",
        "spark = SparkSession.builder\\\n",
        "        .master(\"local[*]\")\\\n",
        "        .appName('PySpark_Tutorial')\\\n",
        "        .getOrCreate()"
      ],
      "metadata": {
        "id": "HEKYB96HCi77"
      },
      "execution_count": 7,
      "outputs": []
    },
    {
      "cell_type": "code",
      "source": [
        "df1 = spark.read.parquet(\"/part-00000-04d037c3-4d6a-4c97-b953-9a9d1f57ba21-c000.snappy.parquet\")\n",
        "df2 = spark.read.parquet(\"/part-00001-04d037c3-4d6a-4c97-b953-9a9d1f57ba21-c000.snappy.parquet\")\n",
        "df3 = spark.read.parquet(\"/part-00002-04d037c3-4d6a-4c97-b953-9a9d1f57ba21-c000.snappy.parquet\")\n",
        "df = df1.union(df2).union(df3)\n",
        "df.show()"
      ],
      "metadata": {
        "colab": {
          "base_uri": "https://localhost:8080/"
        },
        "id": "DCExhvgqrBsH",
        "outputId": "8005f0f4-1950-4859-b904-4a17753e8432"
      },
      "execution_count": 9,
      "outputs": [
        {
          "output_type": "stream",
          "name": "stdout",
          "text": [
            "+-------+----------+---------+---------+\n",
            "|partner|  rep_date|    value|  article|\n",
            "+-------+----------+---------+---------+\n",
            "|  02461|2021-04-15| -74850.2|      end|\n",
            "|  00044|2021-06-30|-72137.72|comission|\n",
            "|  03137|2021-04-05|    -1.56|    begin|\n",
            "|  00728|2021-06-01|   380.89|comission|\n",
            "|  03107|2021-12-13|     2.36|comission|\n",
            "|  01176|2021-04-01|     4.49|      end|\n",
            "|  00541|2021-09-19|-85343.08|      end|\n",
            "|  04203|2021-04-18|  -424.87|    begin|\n",
            "|  00464|2021-01-02|  -1893.5|comission|\n",
            "|  04378|2021-08-28|   251.24|      end|\n",
            "|  01813|2021-07-02|  -408.74|      end|\n",
            "|  04940|2021-01-08|     5.59|      end|\n",
            "|  02643|2021-02-07|     0.75|      end|\n",
            "|  01674|2021-02-25|    13.28|comission|\n",
            "|  00477|2021-12-02| 20658.28|    begin|\n",
            "|  03289|2021-01-16|     0.81|    begin|\n",
            "|  04886|2021-10-03|  5841.09|      end|\n",
            "|  01337|2021-06-13|    -0.62|    begin|\n",
            "|  00933|2021-04-08|-17666.38|    begin|\n",
            "|  03340|2021-03-02|   -91.06|comission|\n",
            "+-------+----------+---------+---------+\n",
            "only showing top 20 rows\n",
            "\n"
          ]
        }
      ]
    },
    {
      "cell_type": "code",
      "source": [],
      "metadata": {
        "id": "1aJlx-ILtK8R"
      },
      "execution_count": null,
      "outputs": []
    }
  ]
}